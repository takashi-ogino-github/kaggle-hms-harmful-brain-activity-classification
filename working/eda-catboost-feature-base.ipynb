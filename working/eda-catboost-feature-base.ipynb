{
 "cells": [
  {
   "cell_type": "code",
   "execution_count": 41,
   "metadata": {},
   "outputs": [],
   "source": [
    "import os, gc\n",
    "import pandas as pd\n",
    "import numpy as np\n",
    "import matplotlib.pyplot as plt\n",
    "import polars as pl\n",
    "from pathlib import Path"
   ]
  },
  {
   "cell_type": "code",
   "execution_count": 42,
   "metadata": {},
   "outputs": [
    {
     "data": {
      "text/plain": [
       "'c:\\\\Users\\\\takashi\\\\Documents\\\\Kaggle\\\\hms-harmful-brain-activity-classification\\\\working'"
      ]
     },
     "execution_count": 42,
     "metadata": {},
     "output_type": "execute_result"
    }
   ],
   "source": [
    "%pwd"
   ]
  },
  {
   "cell_type": "code",
   "execution_count": 43,
   "metadata": {},
   "outputs": [
    {
     "name": "stdout",
     "output_type": "stream",
     "text": [
      " Volume in drive C is Windows\n",
      " Volume Serial Number is 3E25-FCC2\n",
      "\n",
      " Directory of c:\\Users\\takashi\\Documents\\Kaggle\\hms-harmful-brain-activity-classification\\working\n",
      "\n",
      "2024/02/26  11:34    <DIR>          .\n",
      "2024/02/26  11:29    <DIR>          ..\n",
      "2024/02/26  11:28           135,240 catboost-starter-lb-0-67.ipynb\n",
      "2024/02/26  11:28            33,637 catboost-starter-ver3-inference.ipynb\n",
      "2024/02/26  11:28           125,279 catboost-starter-ver3-train.ipynb\n",
      "2024/02/28  13:10           159,237 eda-eeg.ipynb\n",
      "2024/02/26  11:28         2,551,404 wavenet-starter-lb-0-66.ipynb\n",
      "               5 File(s)      3,004,797 bytes\n",
      "               2 Dir(s)  154,738,520,064 bytes free\n"
     ]
    }
   ],
   "source": [
    "# !chcp 65001\n",
    "# !dir\n",
    "%ls"
   ]
  },
  {
   "cell_type": "code",
   "execution_count": 51,
   "metadata": {},
   "outputs": [
    {
     "data": {
      "text/html": [
       "<div><style>\n",
       ".dataframe > thead > tr,\n",
       ".dataframe > tbody > tr {\n",
       "  text-align: right;\n",
       "  white-space: pre-wrap;\n",
       "}\n",
       "</style>\n",
       "<small>shape: (5, 20)</small><table border=\"1\" class=\"dataframe\"><thead><tr><th>Fp1</th><th>F3</th><th>C3</th><th>P3</th><th>F7</th><th>T3</th><th>T5</th><th>O1</th><th>Fz</th><th>Cz</th><th>Pz</th><th>Fp2</th><th>F4</th><th>C4</th><th>P4</th><th>F8</th><th>T4</th><th>T6</th><th>O2</th><th>EKG</th></tr><tr><td>f32</td><td>f32</td><td>f32</td><td>f32</td><td>f32</td><td>f32</td><td>f32</td><td>f32</td><td>f32</td><td>f32</td><td>f32</td><td>f32</td><td>f32</td><td>f32</td><td>f32</td><td>f32</td><td>f32</td><td>f32</td><td>f32</td><td>f32</td></tr></thead><tbody><tr><td>9999.0</td><td>9999.0</td><td>9999.0</td><td>9999.0</td><td>9999.0</td><td>9999.0</td><td>9999.0</td><td>9999.0</td><td>9999.0</td><td>9999.0</td><td>9999.0</td><td>9999.0</td><td>9999.0</td><td>9999.0</td><td>9999.0</td><td>9999.0</td><td>9999.0</td><td>9999.0</td><td>9999.0</td><td>0.0</td></tr><tr><td>9999.0</td><td>9999.0</td><td>9999.0</td><td>9999.0</td><td>9999.0</td><td>9999.0</td><td>9999.0</td><td>9999.0</td><td>9999.0</td><td>9999.0</td><td>9999.0</td><td>9999.0</td><td>9999.0</td><td>9999.0</td><td>9999.0</td><td>9999.0</td><td>9999.0</td><td>9999.0</td><td>9999.0</td><td>0.0</td></tr><tr><td>9999.0</td><td>9999.0</td><td>9999.0</td><td>9999.0</td><td>9999.0</td><td>9999.0</td><td>9999.0</td><td>9999.0</td><td>9999.0</td><td>9999.0</td><td>9999.0</td><td>9999.0</td><td>9999.0</td><td>9999.0</td><td>9999.0</td><td>9999.0</td><td>9999.0</td><td>9999.0</td><td>9999.0</td><td>0.0</td></tr><tr><td>9999.0</td><td>9999.0</td><td>9999.0</td><td>9999.0</td><td>9999.0</td><td>9999.0</td><td>9999.0</td><td>9999.0</td><td>9999.0</td><td>9999.0</td><td>9999.0</td><td>9999.0</td><td>9999.0</td><td>9999.0</td><td>9999.0</td><td>9999.0</td><td>9999.0</td><td>9999.0</td><td>9999.0</td><td>0.0</td></tr><tr><td>9999.0</td><td>9999.0</td><td>9999.0</td><td>9999.0</td><td>9999.0</td><td>9999.0</td><td>9999.0</td><td>9999.0</td><td>9999.0</td><td>9999.0</td><td>9999.0</td><td>9999.0</td><td>9999.0</td><td>9999.0</td><td>9999.0</td><td>9999.0</td><td>9999.0</td><td>9999.0</td><td>9999.0</td><td>0.0</td></tr></tbody></table></div>"
      ],
      "text/plain": [
       "shape: (5, 20)\n",
       "┌────────┬────────┬────────┬────────┬───┬────────┬────────┬────────┬─────┐\n",
       "│ Fp1    ┆ F3     ┆ C3     ┆ P3     ┆ … ┆ T4     ┆ T6     ┆ O2     ┆ EKG │\n",
       "│ ---    ┆ ---    ┆ ---    ┆ ---    ┆   ┆ ---    ┆ ---    ┆ ---    ┆ --- │\n",
       "│ f32    ┆ f32    ┆ f32    ┆ f32    ┆   ┆ f32    ┆ f32    ┆ f32    ┆ f32 │\n",
       "╞════════╪════════╪════════╪════════╪═══╪════════╪════════╪════════╪═════╡\n",
       "│ 9999.0 ┆ 9999.0 ┆ 9999.0 ┆ 9999.0 ┆ … ┆ 9999.0 ┆ 9999.0 ┆ 9999.0 ┆ 0.0 │\n",
       "│ 9999.0 ┆ 9999.0 ┆ 9999.0 ┆ 9999.0 ┆ … ┆ 9999.0 ┆ 9999.0 ┆ 9999.0 ┆ 0.0 │\n",
       "│ 9999.0 ┆ 9999.0 ┆ 9999.0 ┆ 9999.0 ┆ … ┆ 9999.0 ┆ 9999.0 ┆ 9999.0 ┆ 0.0 │\n",
       "│ 9999.0 ┆ 9999.0 ┆ 9999.0 ┆ 9999.0 ┆ … ┆ 9999.0 ┆ 9999.0 ┆ 9999.0 ┆ 0.0 │\n",
       "│ 9999.0 ┆ 9999.0 ┆ 9999.0 ┆ 9999.0 ┆ … ┆ 9999.0 ┆ 9999.0 ┆ 9999.0 ┆ 0.0 │\n",
       "└────────┴────────┴────────┴────────┴───┴────────┴────────┴────────┴─────┘"
      ]
     },
     "execution_count": 51,
     "metadata": {},
     "output_type": "execute_result"
    }
   ],
   "source": [
    "temp = pl.read_parquet(\"../input/train_eegs/1001717358.parquet\")\n",
    "temp.head()"
   ]
  },
  {
   "cell_type": "code",
   "execution_count": null,
   "metadata": {},
   "outputs": [],
   "source": [
    "df_train = pl.read_csv(\"../input/train.csv\")"
   ]
  },
  {
   "cell_type": "code",
   "execution_count": 125,
   "metadata": {},
   "outputs": [
    {
     "name": "stdout",
     "output_type": "stream",
     "text": [
      "There are 17300 eeg parquet files\n",
      "0 , 100 , 200 , 300 , 400 , 500 , 600 , 700 , 800 , 900 , 1000 , 1100 , 1200 , 1300 , 1400 , 1500 , 1600 , 1700 , 1800 , 1900 , 2000 , 2100 , 2200 , 2300 , 2400 , 2500 , 2600 , 2700 , 2800 , 2900 , 3000 , 3100 , 3200 , 3300 , 3400 , 3500 , 3600 , 3700 , 3800 , 3900 , 4000 , 4100 , 4200 , 4300 , 4400 , 4500 , 4600 , 4700 , 4800 , 4900 , 5000 , 5100 , 5200 , 5300 , 5400 , 5500 , 5600 , 5700 , 5800 , 5900 , 6000 , 6100 , 6200 , 6300 , 6400 , 6500 , 6600 , 6700 , 6800 , 6900 , 7000 , 7100 , 7200 , 7300 , 7400 , 7500 , 7600 , 7700 , 7800 , 7900 , 8000 , 8100 , 8200 , 8300 , 8400 , 8500 , 8600 , 8700 , 8800 , 8900 , 9000 , 9100 , 9200 , 9300 , 9400 , 9500 , 9600 , 9700 , 9800 , 9900 , 10000 , 10100 , 10200 , 10300 , 10400 , 10500 , 10600 , 10700 , 10800 , 10900 , 11000 , 11100 , 11200 , 11300 , 11400 , 11500 , 11600 , 11700 , 11800 , 11900 , 12000 , 12100 , 12200 , 12300 , 12400 , 12500 , 12600 , 12700 , 12800 , 12900 , 13000 , 13100 , 13200 , 13300 , 13400 , 13500 , 13600 , 13700 , 13800 , 13900 , 14000 , 14100 , 14200 , 14300 , 14400 , 14500 , 14600 , 14700 , 14800 , 14900 , 15000 , 15100 , 15200 , 15300 , 15400 , 15500 , 15600 , 15700 , 15800 , 15900 , 16000 , 16100 , 16200 , 16300 , 16400 , 16500 , 16600 , 16700 , 16800 , 16900 , 17000 , 17100 , 17200 , "
     ]
    }
   ],
   "source": [
    "PATH = '../input/train_eegs/'\n",
    "files = os.listdir(PATH)\n",
    "print(f'There are {len(files)} eeg parquet files')\n",
    "\n",
    "all_eegs = {}\n",
    "temp = pl.DataFrame()\n",
    "for i, f in enumerate(files):\n",
    "    if i%100 == 0: print(i, ', ', end = '')\n",
    "    \n",
    "    if i%5 ==3:\n",
    "    # if (i < 1) or (eeg_id == 568657):\n",
    "        temp_eeg = pl.read_parquet(f'{PATH}{f}')\n",
    "        eeg_id = int(f.split('.')[0])\n",
    "    \n",
    "\n",
    "        # train データと、EEGデータにおける部分サンプルを対応させるための時間のキーをつくる\n",
    "        # https://www.kaggle.com/competitions/hms-harmful-brain-activity-classification/discussion/468010\n",
    "        \n",
    "        # ex.\n",
    "        # df_trainにおける eeg_label_offset_seconds = 0秒のとき\n",
    "        # eeg全体における[0秒, 50秒]の50秒分の部分サンプルに対応する\n",
    "\n",
    "        # df_trainの各行は、EEGの部分サンプル[T-25, T+25]の範囲に対応する\n",
    "        # eeg_label_offset_secondsはその最初の時刻 T-25に等しい\n",
    "        temp_offset = df_train.filter(pl.col(\"eeg_id\") == eeg_id).select([\"eeg_label_offset_seconds\"]).to_series().to_list()\n",
    "\n",
    "        \n",
    "        # eegデータにおける、計測開始から各行までの秒数 seconds_eeg\n",
    "        t = 1/200         # EEGのサンプリング周波数は200Hzなので、1行は1/200秒ごとの計測値を表す  \n",
    "        seconds = [i*t for i in range(len(temp_eeg))]\n",
    "        temp_eeg = temp_eeg.with_columns(pl.Series(seconds).alias(\"seconds_eeg\")) \n",
    "        \n",
    "        # eegデータにおける計測時刻 seconds_eeg から25秒引いたときの時刻 seconds_eeg_offset\n",
    "        # = df_trainにおけるeeg_label_offset_seconds\n",
    "        temp_eeg = temp_eeg.with_columns((pl.col(\"seconds_eeg\") - 25).alias(\"seconds_eeg_offset\"))\n",
    "\n",
    "\n",
    "        # 差分特徴量を作る\n",
    "        temp_eeg = temp_eeg.with_columns(\n",
    "            (pl.col(\"Fp1\") - pl.col(\"T3\")).alias(\"LL_Fp1-T3\"),\n",
    "            (pl.col(\"T3\") - pl.col(\"O1\")).alias(\"LL_T3-O1\"),\n",
    "            (pl.col(\"Fp1\") - pl.col(\"C3\")).alias(\"LP_Fp1-C3\"),\n",
    "            (pl.col(\"C3\") - pl.col(\"O1\")).alias(\"LP_C3-O1\"),\n",
    "            (pl.col(\"Fp2\") - pl.col(\"C4\")).alias(\"RP_Fp2-C4\"),\n",
    "            (pl.col(\"C4\") - pl.col(\"O2\")).alias(\"RP_C4-O2\"),\n",
    "            (pl.col(\"Fp2\") - pl.col(\"T4\")).alias(\"RR_Fp2-T4\"),\n",
    "            (pl.col(\"T4\") - pl.col(\"O2\")).alias(\"RR_T4-O2\"),\n",
    "        )\n",
    "\n",
    "        # 差分特徴量の集計特徴量をつくる\n",
    "        window = 4000 # 20秒窓 (20秒 / 1レコード1/200秒 = 4000レコード)\n",
    "        temp_eeg = temp_eeg.with_columns(\n",
    "            # LL: Fp1 - T3\n",
    "            pl.col(\"LL_Fp1-T3\").rolling_mean(window_size=window).alias(\"mean20s_LL_Fp1-T3\"),\n",
    "            pl.col(\"LL_Fp1-T3\").rolling_max(window_size=window).alias(\"min20s_LL_Fp1-T3\"),\n",
    "            pl.col(\"LL_Fp1-T3\").rolling_min(window_size=window).alias(\"max20s_LL_Fp1-T3\"),\n",
    "            pl.col(\"LL_Fp1-T3\").rolling_std(window_size=window).alias(\"std20s_LL_Fp1-T3\"),\n",
    "            (pl.col(\"LL_Fp1-T3\").rolling_max(window_size=window) - pl.col(\"LL_Fp1-T3\").rolling_min(window_size=window)).alias(\"max-min_20s_LL_Fp1-T3\"),\n",
    "\n",
    "            # LL: Fp1 - T3\n",
    "            pl.col(\"LL_T3-O1\").rolling_mean(window_size=window).alias(\"mean20s_LL_T3-O1\"),\n",
    "            pl.col(\"LL_T3-O1\").rolling_max(window_size=window).alias(\"min20s_LL_T3-O1\"),\n",
    "            pl.col(\"LL_T3-O1\").rolling_min(window_size=window).alias(\"max20s_LL_T3-O1\"),\n",
    "            pl.col(\"LL_T3-O1\").rolling_std(window_size=window).alias(\"std20s_LL_T3-O1\"),\n",
    "            (pl.col(\"LL_T3-O1\").rolling_max(window_size=window) - pl.col(\"LL_T3-O1\").rolling_min(window_size=window)).alias(\"max-min_20s_LL_T3-O1\"),\n",
    "\n",
    "\n",
    "            # LP: Fp1 - C3\n",
    "            pl.col(\"LP_Fp1-C3\").rolling_mean(window_size=window).alias(\"mean20s_LP_Fp1-C3\"),\n",
    "            pl.col(\"LP_Fp1-C3\").rolling_max(window_size=window).alias(\"min20s_LP_Fp1-C3\"),\n",
    "            pl.col(\"LP_Fp1-C3\").rolling_min(window_size=window).alias(\"max20s_LP_Fp1-C3\"),\n",
    "            pl.col(\"LP_Fp1-C3\").rolling_std(window_size=window).alias(\"std20s_LP_Fp1-C3\"),\n",
    "            (pl.col(\"LP_Fp1-C3\").rolling_max(window_size=window) - pl.col(\"LP_Fp1-C3\").rolling_min(window_size=window)).alias(\"max-min_20s_LP_Fp1-C3\"),\n",
    "\n",
    "            # LP: C3 - O1\n",
    "            pl.col(\"LP_C3-O1\").rolling_mean(window_size=window).alias(\"mean20s_LP_C3-O1\"),\n",
    "            pl.col(\"LP_C3-O1\").rolling_max(window_size=window).alias(\"min20s_LP_C3-O1\"),\n",
    "            pl.col(\"LP_C3-O1\").rolling_min(window_size=window).alias(\"max20s_LP_C3-O1\"),\n",
    "            pl.col(\"LP_C3-O1\").rolling_std(window_size=window).alias(\"std20s_LP_C3-O1\"),\n",
    "            (pl.col(\"LP_C3-O1\").rolling_max(window_size=window) - pl.col(\"LP_C3-O1\").rolling_min(window_size=window)).alias(\"max-min_20s_LP_C3-O1\"),\n",
    "\n",
    "\n",
    "            # RP: Fp1 - C4\n",
    "            pl.col(\"RP_Fp2-C4\").rolling_mean(window_size=window).alias(\"mean20s_RP_Fp2-C4\"),\n",
    "            pl.col(\"RP_Fp2-C4\").rolling_max(window_size=window).alias(\"min20s_RP_Fp2-C4\"),\n",
    "            pl.col(\"RP_Fp2-C4\").rolling_min(window_size=window).alias(\"max20s_RP_Fp2-C4\"),\n",
    "            pl.col(\"RP_Fp2-C4\").rolling_std(window_size=window).alias(\"std20s_RP_Fp2-C4\"),\n",
    "            (pl.col(\"RP_Fp2-C4\").rolling_max(window_size=window) - pl.col(\"RP_Fp2-C4\").rolling_min(window_size=window)).alias(\"max-min_20s_RP_Fp2-C4\"),\n",
    "\n",
    "            # RP: C4 - O2\n",
    "            pl.col(\"RP_C4-O2\").rolling_mean(window_size=window).alias(\"mean20s_RP_C4-O2\"),\n",
    "            pl.col(\"RP_C4-O2\").rolling_max(window_size=window).alias(\"min20s_RP_C4-O2\"),\n",
    "            pl.col(\"RP_C4-O2\").rolling_min(window_size=window).alias(\"max20s_RP_C4-O2\"),\n",
    "            pl.col(\"RP_C4-O2\").rolling_std(window_size=window).alias(\"std20s_RP_C4-O2\"),\n",
    "            (pl.col(\"RP_C4-O2\").rolling_max(window_size=window) - pl.col(\"RP_C4-O2\").rolling_min(window_size=window)).alias(\"max-min_20s_RP_C4-O2\"),\n",
    "\n",
    "\n",
    "            # RR: Fp2 - T4\n",
    "            pl.col(\"RR_Fp2-T4\").rolling_mean(window_size=window).alias(\"mean20s_RR_Fp2-T4\"),\n",
    "            pl.col(\"RR_Fp2-T4\").rolling_max(window_size=window).alias(\"min20s_RR_Fp2-T4\"),\n",
    "            pl.col(\"RR_Fp2-T4\").rolling_min(window_size=window).alias(\"max20s_RR_Fp2-T4\"),\n",
    "            pl.col(\"RR_Fp2-T4\").rolling_std(window_size=window).alias(\"std20s_RR_Fp2-T4\"),\n",
    "            (pl.col(\"RR_Fp2-T4\").rolling_max(window_size=window) - pl.col(\"RR_Fp2-T4\").rolling_min(window_size=window)).alias(\"max-min_20s_RR_Fp2-T4\"),\n",
    "\n",
    "            # RR: T4 - O2\n",
    "            pl.col(\"RR_T4-O2\").rolling_mean(window_size=window).alias(\"mean20s_RR_T4-O2\"),\n",
    "            pl.col(\"RR_T4-O2\").rolling_max(window_size=window).alias(\"min20s_RR_T4-O2\"),\n",
    "            pl.col(\"RR_T4-O2\").rolling_min(window_size=window).alias(\"max20s_RR_T4-O2\"),\n",
    "            pl.col(\"RR_T4-O2\").rolling_std(window_size=window).alias(\"std20s_RR_T4-O2\"),\n",
    "            (pl.col(\"RR_T4-O2\").rolling_max(window_size=window) - pl.col(\"RR_T4-O2\").rolling_min(window_size=window)).alias(\"max-min_20s_RR_T4-O2\"),\n",
    "        )\n",
    "\n",
    "\n",
    "\n",
    "        # 集計特徴量とEKG以外drop\n",
    "        temp_eeg = temp_eeg.drop(['Fp1', 'F3', 'C3', 'P3', 'F7', 'T3', 'T5', 'O1', 'Fz', 'Cz', 'Pz', 'Fp2', 'F4', 'C4', 'P4', 'F8', 'T4', 'T6', 'O2'])\n",
    "        \n",
    "        # seconds_eeg_offsetが、eeg_label_offset_secondsのリストtemp_offsetに含まれるレコードのみ抽出\n",
    "        temp_eeg = temp_eeg.filter(pl.col(\"seconds_eeg_offset\").is_in(temp_offset))\n",
    "\n",
    "        # eeg_id を追加\n",
    "            # 型        \n",
    "        temp_eeg = temp_eeg.with_columns(pl.lit(str(eeg_id)).alias(\"eeg_id\"))\n",
    "\n",
    "        # 全ての\n",
    "        temp = pl.concat([temp, temp_eeg], how = 'vertical')\n",
    "\n",
    "    else:\n",
    "        continue\n",
    "        \n",
    "            \n"
   ]
  },
  {
   "cell_type": "code",
   "execution_count": 128,
   "metadata": {},
   "outputs": [
    {
     "data": {
      "text/html": [
       "<div><style>\n",
       ".dataframe > thead > tr,\n",
       ".dataframe > tbody > tr {\n",
       "  text-align: right;\n",
       "  white-space: pre-wrap;\n",
       "}\n",
       "</style>\n",
       "<small>shape: (5, 52)</small><table border=\"1\" class=\"dataframe\"><thead><tr><th>EKG</th><th>seconds_eeg</th><th>seconds_eeg_offset</th><th>LL_Fp1-T3</th><th>LL_T3-O1</th><th>LP_Fp1-C3</th><th>LP_C3-O1</th><th>RP_Fp2-C4</th><th>RP_C4-O2</th><th>RR_Fp2-T4</th><th>RR_T4-O2</th><th>mean20s_LL_Fp1-T3</th><th>min20s_LL_Fp1-T3</th><th>max20s_LL_Fp1-T3</th><th>std20s_LL_Fp1-T3</th><th>max-min_20s_LL_Fp1-T3</th><th>mean20s_LL_T3-O1</th><th>min20s_LL_T3-O1</th><th>max20s_LL_T3-O1</th><th>std20s_LL_T3-O1</th><th>max-min_20s_LL_T3-O1</th><th>mean20s_LP_Fp1-C3</th><th>min20s_LP_Fp1-C3</th><th>max20s_LP_Fp1-C3</th><th>std20s_LP_Fp1-C3</th><th>max-min_20s_LP_Fp1-C3</th><th>mean20s_LP_C3-O1</th><th>min20s_LP_C3-O1</th><th>max20s_LP_C3-O1</th><th>std20s_LP_C3-O1</th><th>max-min_20s_LP_C3-O1</th><th>mean20s_RP_Fp2-C4</th><th>min20s_RP_Fp2-C4</th><th>max20s_RP_Fp2-C4</th><th>std20s_RP_Fp2-C4</th><th>max-min_20s_RP_Fp2-C4</th><th>mean20s_RP_C4-O2</th><th>min20s_RP_C4-O2</th><th>max20s_RP_C4-O2</th><th>std20s_RP_C4-O2</th><th>max-min_20s_RP_C4-O2</th><th>mean20s_RR_Fp2-T4</th><th>min20s_RR_Fp2-T4</th><th>max20s_RR_Fp2-T4</th><th>std20s_RR_Fp2-T4</th><th>max-min_20s_RR_Fp2-T4</th><th>mean20s_RR_T4-O2</th><th>min20s_RR_T4-O2</th><th>max20s_RR_T4-O2</th><th>std20s_RR_T4-O2</th><th>max-min_20s_RR_T4-O2</th><th>eeg_id</th></tr><tr><td>f32</td><td>f64</td><td>f64</td><td>f32</td><td>f32</td><td>f32</td><td>f32</td><td>f32</td><td>f32</td><td>f32</td><td>f32</td><td>f32</td><td>f32</td><td>f32</td><td>f32</td><td>f32</td><td>f32</td><td>f32</td><td>f32</td><td>f32</td><td>f32</td><td>f32</td><td>f32</td><td>f32</td><td>f32</td><td>f32</td><td>f32</td><td>f32</td><td>f32</td><td>f32</td><td>f32</td><td>f32</td><td>f32</td><td>f32</td><td>f32</td><td>f32</td><td>f32</td><td>f32</td><td>f32</td><td>f32</td><td>f32</td><td>f32</td><td>f32</td><td>f32</td><td>f32</td><td>f32</td><td>f32</td><td>f32</td><td>f32</td><td>f32</td><td>f32</td><td>i64</td></tr></thead><tbody><tr><td>191.660004</td><td>25.0</td><td>0.0</td><td>323.379974</td><td>-108.759979</td><td>189.460007</td><td>25.160004</td><td>-43.889999</td><td>-83.440002</td><td>777.929993</td><td>-905.26001</td><td>412.67749</td><td>4634.339844</td><td>0.0</td><td>915.040771</td><td>4634.339844</td><td>-127.406128</td><td>0.0</td><td>-1539.919922</td><td>292.541199</td><td>1539.919922</td><td>297.551331</td><td>3225.75</td><td>0.0</td><td>650.571655</td><td>3225.75</td><td>-12.279777</td><td>116.329987</td><td>-269.379883</td><td>42.236317</td><td>385.709869</td><td>11.759129</td><td>228.540009</td><td>-144.449951</td><td>42.865955</td><td>372.98996</td><td>-252.892807</td><td>0.0</td><td>-2786.389893</td><td>566.029724</td><td>2786.389893</td><td>266.312775</td><td>1349.469971</td><td>0.0</td><td>462.041687</td><td>1349.469971</td><td>-507.446899</td><td>0.0</td><td>-3706.030029</td><td>956.973328</td><td>3706.030029</td><td>1001717358</td></tr><tr><td>131.330002</td><td>29.0</td><td>4.0</td><td>55.320004</td><td>-128.419998</td><td>81.449997</td><td>-154.550003</td><td>33.689999</td><td>17.609999</td><td>520.340027</td><td>-469.040009</td><td>449.258148</td><td>4634.339844</td><td>-12.08</td><td>902.251709</td><td>4646.419922</td><td>-138.697495</td><td>74.450005</td><td>-1539.919922</td><td>289.550018</td><td>1614.369873</td><td>323.572083</td><td>3225.75</td><td>-22.5</td><td>641.607727</td><td>3248.25</td><td>-13.011845</td><td>158.76001</td><td>-269.379883</td><td>49.844265</td><td>428.139893</td><td>31.754271</td><td>261.399994</td><td>-144.449951</td><td>60.888275</td><td>405.849945</td><td>-271.410187</td><td>91.800003</td><td>-2786.389893</td><td>560.559875</td><td>2878.189941</td><td>424.303894</td><td>1349.469971</td><td>0.0</td><td>480.897888</td><td>1349.469971</td><td>-663.961243</td><td>0.0</td><td>-3706.030029</td><td>926.889893</td><td>3706.030029</td><td>1001717358</td></tr><tr><td>140.070007</td><td>37.0</td><td>12.0</td><td>23.360001</td><td>-8.020004</td><td>-25.400002</td><td>40.739998</td><td>159.150009</td><td>4.69</td><td>458.25</td><td>-294.410004</td><td>470.352783</td><td>4634.339844</td><td>-88.950005</td><td>892.572388</td><td>4723.290039</td><td>-147.161682</td><td>124.440002</td><td>-1539.919922</td><td>287.613861</td><td>1664.359863</td><td>336.189972</td><td>3225.75</td><td>-144.429993</td><td>636.141541</td><td>3370.179932</td><td>-12.998888</td><td>202.220001</td><td>-269.379883</td><td>63.660961</td><td>471.599884</td><td>72.649086</td><td>261.399994</td><td>-144.449951</td><td>68.670013</td><td>405.849945</td><td>-276.438446</td><td>134.570007</td><td>-2786.389893</td><td>559.632202</td><td>2920.959961</td><td>636.892883</td><td>1349.469971</td><td>0.0</td><td>350.520569</td><td>1349.469971</td><td>-840.682922</td><td>0.0</td><td>-3706.030029</td><td>821.597656</td><td>3706.030029</td><td>1001717358</td></tr><tr><td>-70.300003</td><td>67.0</td><td>42.0</td><td>167.830002</td><td>-17.989998</td><td>142.240005</td><td>7.599998</td><td>102.649994</td><td>6.710003</td><td>183.730011</td><td>-74.370003</td><td>53.022327</td><td>221.830002</td><td>-151.080002</td><td>55.918518</td><td>372.910004</td><td>-22.694662</td><td>129.100006</td><td>-190.410004</td><td>53.07122</td><td>319.51001</td><td>31.672546</td><td>260.149994</td><td>-176.779999</td><td>63.383339</td><td>436.929993</td><td>-1.345063</td><td>168.059998</td><td>-231.380005</td><td>65.765457</td><td>399.440002</td><td>107.228745</td><td>275.700012</td><td>-72.509995</td><td>57.135098</td><td>348.210022</td><td>6.13805</td><td>151.139999</td><td>-242.290009</td><td>63.278687</td><td>393.429993</td><td>229.746231</td><td>483.440002</td><td>0.149998</td><td>87.56395</td><td>483.290009</td><td>-116.381439</td><td>95.869995</td><td>-368.970001</td><td>71.364052</td><td>464.839996</td><td>1001717358</td></tr><tr><td>-127.050003</td><td>105.0</td><td>80.0</td><td>121.889999</td><td>15.77</td><td>74.920006</td><td>62.740002</td><td>131.899994</td><td>32.860001</td><td>102.580002</td><td>62.18</td><td>39.584751</td><td>236.180008</td><td>-149.619995</td><td>65.510597</td><td>385.799988</td><td>-18.363068</td><td>173.779999</td><td>-243.619995</td><td>66.816132</td><td>417.399994</td><td>21.645119</td><td>224.449982</td><td>-160.419998</td><td>68.567253</td><td>384.869995</td><td>-0.423445</td><td>210.040009</td><td>-243.540009</td><td>77.368248</td><td>453.580017</td><td>88.804695</td><td>236.12999</td><td>-42.09</td><td>48.630436</td><td>278.220001</td><td>0.907417</td><td>172.419998</td><td>-261.070007</td><td>61.006084</td><td>433.48999</td><td>86.561203</td><td>336.519989</td><td>-155.779999</td><td>79.498024</td><td>492.299988</td><td>3.148824</td><td>223.270004</td><td>-229.730011</td><td>73.906242</td><td>453.0</td><td>1001717358</td></tr></tbody></table></div>"
      ],
      "text/plain": [
       "shape: (5, 52)\n",
       "┌───────────┬───────────┬───────────┬───────────┬───┬───────────┬───────────┬───────────┬──────────┐\n",
       "│ EKG       ┆ seconds_e ┆ seconds_e ┆ LL_Fp1-T3 ┆ … ┆ max20s_RR ┆ std20s_RR ┆ max-min_2 ┆ eeg_id   │\n",
       "│ ---       ┆ eg        ┆ eg_offset ┆ ---       ┆   ┆ _T4-O2    ┆ _T4-O2    ┆ 0s_RR_T4- ┆ ---      │\n",
       "│ f32       ┆ ---       ┆ ---       ┆ f32       ┆   ┆ ---       ┆ ---       ┆ O2        ┆ i64      │\n",
       "│           ┆ f64       ┆ f64       ┆           ┆   ┆ f32       ┆ f32       ┆ ---       ┆          │\n",
       "│           ┆           ┆           ┆           ┆   ┆           ┆           ┆ f32       ┆          │\n",
       "╞═══════════╪═══════════╪═══════════╪═══════════╪═══╪═══════════╪═══════════╪═══════════╪══════════╡\n",
       "│ 191.66000 ┆ 25.0      ┆ 0.0       ┆ 323.37997 ┆ … ┆ -3706.030 ┆ 956.97332 ┆ 3706.0300 ┆ 10017173 │\n",
       "│ 4         ┆           ┆           ┆ 4         ┆   ┆ 029       ┆ 8         ┆ 29        ┆ 58       │\n",
       "│ 131.33000 ┆ 29.0      ┆ 4.0       ┆ 55.320004 ┆ … ┆ -3706.030 ┆ 926.88989 ┆ 3706.0300 ┆ 10017173 │\n",
       "│ 2         ┆           ┆           ┆           ┆   ┆ 029       ┆ 3         ┆ 29        ┆ 58       │\n",
       "│ 140.07000 ┆ 37.0      ┆ 12.0      ┆ 23.360001 ┆ … ┆ -3706.030 ┆ 821.59765 ┆ 3706.0300 ┆ 10017173 │\n",
       "│ 7         ┆           ┆           ┆           ┆   ┆ 029       ┆ 6         ┆ 29        ┆ 58       │\n",
       "│ -70.30000 ┆ 67.0      ┆ 42.0      ┆ 167.83000 ┆ … ┆ -368.9700 ┆ 71.364052 ┆ 464.83999 ┆ 10017173 │\n",
       "│ 3         ┆           ┆           ┆ 2         ┆   ┆ 01        ┆           ┆ 6         ┆ 58       │\n",
       "│ -127.0500 ┆ 105.0     ┆ 80.0      ┆ 121.88999 ┆ … ┆ -229.7300 ┆ 73.906242 ┆ 453.0     ┆ 10017173 │\n",
       "│ 03        ┆           ┆           ┆ 9         ┆   ┆ 11        ┆           ┆           ┆ 58       │\n",
       "└───────────┴───────────┴───────────┴───────────┴───┴───────────┴───────────┴───────────┴──────────┘"
      ]
     },
     "execution_count": 128,
     "metadata": {},
     "output_type": "execute_result"
    }
   ],
   "source": [
    "temp = temp.with_columns(pl.col(\"eeg_id\").cast(pl.Int64).alias(\"eeg_id\"))\n",
    "temp.head()"
   ]
  },
  {
   "cell_type": "code",
   "execution_count": 138,
   "metadata": {},
   "outputs": [],
   "source": [
    "FEATURES = temp.drop([\"seconds_eeg\", \"seconds_eeg_offset\", \"eeg_id\"]).columns"
   ]
  },
  {
   "cell_type": "code",
   "execution_count": 139,
   "metadata": {},
   "outputs": [
    {
     "data": {
      "text/plain": [
       "['EKG',\n",
       " 'LL_Fp1-T3',\n",
       " 'LL_T3-O1',\n",
       " 'LP_Fp1-C3',\n",
       " 'LP_C3-O1',\n",
       " 'RP_Fp2-C4',\n",
       " 'RP_C4-O2',\n",
       " 'RR_Fp2-T4',\n",
       " 'RR_T4-O2',\n",
       " 'mean20s_LL_Fp1-T3',\n",
       " 'min20s_LL_Fp1-T3',\n",
       " 'max20s_LL_Fp1-T3',\n",
       " 'std20s_LL_Fp1-T3',\n",
       " 'max-min_20s_LL_Fp1-T3',\n",
       " 'mean20s_LL_T3-O1',\n",
       " 'min20s_LL_T3-O1',\n",
       " 'max20s_LL_T3-O1',\n",
       " 'std20s_LL_T3-O1',\n",
       " 'max-min_20s_LL_T3-O1',\n",
       " 'mean20s_LP_Fp1-C3',\n",
       " 'min20s_LP_Fp1-C3',\n",
       " 'max20s_LP_Fp1-C3',\n",
       " 'std20s_LP_Fp1-C3',\n",
       " 'max-min_20s_LP_Fp1-C3',\n",
       " 'mean20s_LP_C3-O1',\n",
       " 'min20s_LP_C3-O1',\n",
       " 'max20s_LP_C3-O1',\n",
       " 'std20s_LP_C3-O1',\n",
       " 'max-min_20s_LP_C3-O1',\n",
       " 'mean20s_RP_Fp2-C4',\n",
       " 'min20s_RP_Fp2-C4',\n",
       " 'max20s_RP_Fp2-C4',\n",
       " 'std20s_RP_Fp2-C4',\n",
       " 'max-min_20s_RP_Fp2-C4',\n",
       " 'mean20s_RP_C4-O2',\n",
       " 'min20s_RP_C4-O2',\n",
       " 'max20s_RP_C4-O2',\n",
       " 'std20s_RP_C4-O2',\n",
       " 'max-min_20s_RP_C4-O2',\n",
       " 'mean20s_RR_Fp2-T4',\n",
       " 'min20s_RR_Fp2-T4',\n",
       " 'max20s_RR_Fp2-T4',\n",
       " 'std20s_RR_Fp2-T4',\n",
       " 'max-min_20s_RR_Fp2-T4',\n",
       " 'mean20s_RR_T4-O2',\n",
       " 'min20s_RR_T4-O2',\n",
       " 'max20s_RR_T4-O2',\n",
       " 'std20s_RR_T4-O2',\n",
       " 'max-min_20s_RR_T4-O2']"
      ]
     },
     "execution_count": 139,
     "metadata": {},
     "output_type": "execute_result"
    }
   ],
   "source": [
    "FEATURES"
   ]
  }
 ],
 "metadata": {
  "kernelspec": {
   "display_name": "Python 3",
   "language": "python",
   "name": "python3"
  },
  "language_info": {
   "codemirror_mode": {
    "name": "ipython",
    "version": 3
   },
   "file_extension": ".py",
   "mimetype": "text/x-python",
   "name": "python",
   "nbconvert_exporter": "python",
   "pygments_lexer": "ipython3",
   "version": "3.11.3"
  }
 },
 "nbformat": 4,
 "nbformat_minor": 2
}
